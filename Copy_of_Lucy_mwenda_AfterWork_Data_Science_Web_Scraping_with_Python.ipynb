{
  "nbformat": 4,
  "nbformat_minor": 0,
  "metadata": {
    "colab": {
      "name": "Copy of Lucy mwenda: AfterWork Data Science: Web Scraping with Python",
      "provenance": [],
      "collapsed_sections": [
        "7ePXABAihaKn"
      ],
      "include_colab_link": true
    },
    "kernelspec": {
      "name": "python3",
      "display_name": "Python 3"
    }
  },
  "cells": [
    {
      "cell_type": "markdown",
      "metadata": {
        "id": "view-in-github",
        "colab_type": "text"
      },
      "source": [
        "<a href=\"https://colab.research.google.com/github/luciekash/WebApp/blob/master/Copy_of_Lucy_mwenda_AfterWork_Data_Science_Web_Scraping_with_Python.ipynb\" target=\"_parent\"><img src=\"https://colab.research.google.com/assets/colab-badge.svg\" alt=\"Open In Colab\"/></a>"
      ]
    },
    {
      "cell_type": "markdown",
      "metadata": {
        "id": "7i5A-UY4Yruf"
      },
      "source": [
        "<font color='#2F4F4F'>To use this notebook on Colaboratory, you will need to make a copy of it. Go to File > Save a Copy in Drive. You can then use the new copy that will appear in the new tab.</font>\n"
      ]
    },
    {
      "cell_type": "markdown",
      "metadata": {
        "id": "0rOdcI2Nzhky"
      },
      "source": [
        "# <font color='#2F4F4F'>AfterWork Data Science: Web Scraping with Python</font>"
      ]
    },
    {
      "cell_type": "markdown",
      "metadata": {
        "id": "Tcso2rJCNAGq"
      },
      "source": [
        "## <font color='#2F4F4F'>Prerequisites</font>"
      ]
    },
    {
      "cell_type": "code",
      "metadata": {
        "id": "QSHljMZTNCRI"
      },
      "source": [
        "# We first import the required libraries\n",
        "# ---\n",
        "#\n",
        "import pandas as pd             # library for data manupation\n",
        "import requests                 # library for fetching a web page \n",
        "from bs4 import BeautifulSoup   # library for extrating contents from a webpage "
      ],
      "execution_count": 1,
      "outputs": []
    },
    {
      "cell_type": "markdown",
      "metadata": {
        "id": "CRmt1rRHgZRG"
      },
      "source": [
        "## <font color='#2F4F4F'>Step 1: Obtaining our Data</font>"
      ]
    },
    {
      "cell_type": "code",
      "metadata": {
        "id": "cM5TKD-P1h7Z",
        "colab": {
          "base_uri": "https://localhost:8080/"
        },
        "outputId": "5af9b45e-8294-4676-ff8f-e0ef7111a63c"
      },
      "source": [
        "# PigiaMe: https://www.pigiame.co.ke/it-software-jobs\n",
        "# ---\n",
        "#\n",
        "pigia_me = requests.get('https://www.pigiame.co.ke/it-software-jobs')\n",
        "pigia_me"
      ],
      "execution_count": 2,
      "outputs": [
        {
          "output_type": "execute_result",
          "data": {
            "text/plain": [
              "<Response [200]>"
            ]
          },
          "metadata": {},
          "execution_count": 2
        }
      ]
    },
    {
      "cell_type": "code",
      "metadata": {
        "id": "OfUvfxrD1nQC",
        "colab": {
          "base_uri": "https://localhost:8080/"
        },
        "outputId": "66021060-a14f-4b1f-edf7-730d6f5859a7"
      },
      "source": [
        "# MyJobMag: https://www.myjobmag.co.ke/jobs-by-field/information-technology\n",
        "# ---\n",
        "#\n",
        "MyJobMag = requests.get('https://www.myjobmag.co.ke/jobs-by-field/information-technology')\n",
        "MyJobMag"
      ],
      "execution_count": 29,
      "outputs": [
        {
          "output_type": "execute_result",
          "data": {
            "text/plain": [
              "<Response [200]>"
            ]
          },
          "metadata": {},
          "execution_count": 29
        }
      ]
    },
    {
      "cell_type": "code",
      "metadata": {
        "id": "psWrYhRUQDJC",
        "colab": {
          "base_uri": "https://localhost:8080/"
        },
        "outputId": "fad75c9f-547d-45f5-fa58-d59ced03402c"
      },
      "source": [
        "# KenyanJob: https://www.kenyajob.com/job-vacancies-search-kenya?f%5B0%5D=im_field_offre_secteur%3A133\n",
        "# ---\n",
        "#\n",
        "KenyanJob = requests.get('https://www.kenyajob.com/job-vacancies-search-kenya?f%5B0%5D=im_field_offre_secteur%3A133')\n",
        "KenyanJob"
      ],
      "execution_count": 3,
      "outputs": [
        {
          "output_type": "execute_result",
          "data": {
            "text/plain": [
              "<Response [200]>"
            ]
          },
          "metadata": {},
          "execution_count": 3
        }
      ]
    },
    {
      "cell_type": "markdown",
      "metadata": {
        "id": "h7iRb8U8hHNw"
      },
      "source": [
        "## <font color='#2F4F4F'>Step 2: Parsing</font>"
      ]
    },
    {
      "cell_type": "code",
      "metadata": {
        "id": "AXWSK1kD2oeN"
      },
      "source": [
        "# Parsing our document: pigia_me\n",
        "# ---\n",
        "# \n",
        "soup = BeautifulSoup(pigia_me.text, \"html.parser\")"
      ],
      "execution_count": 6,
      "outputs": []
    },
    {
      "cell_type": "code",
      "metadata": {
        "id": "lrH9mgR82pzg"
      },
      "source": [
        "# Parsing our document: my_job_mag\n",
        "# ---\n",
        "#  \n",
        "soup1 = BeautifulSoup(MyJobMag .text, \"html.parser\")"
      ],
      "execution_count": 30,
      "outputs": []
    },
    {
      "cell_type": "code",
      "metadata": {
        "id": "O0x-Wz03QP5O"
      },
      "source": [
        "# Parsing our document: kenyan_job\n",
        "# ---\n",
        "# \n",
        "soup2 = BeautifulSoup(KenyanJob.text, \"html.parser\")"
      ],
      "execution_count": 8,
      "outputs": []
    },
    {
      "cell_type": "markdown",
      "metadata": {
        "id": "_OxuOAIXhPl5"
      },
      "source": [
        "## <font color='#2F4F4F'>Step 3: Extracting Required Elements</font>"
      ]
    },
    {
      "cell_type": "code",
      "metadata": {
        "id": "LQSm-7A0GFvn",
        "colab": {
          "base_uri": "https://localhost:8080/"
        },
        "outputId": "9a6c7e5f-b8c6-4b2b-97ba-76bd4ccc262c"
      },
      "source": [
        "# 1. Extracting job titles and links: pigia me\n",
        "results = soup_1.find_all('div',attrs={'class':'listing-card__header__title'})\n",
        "results\n",
        "\n",
        "#Stripping all surrounding whitesapce\n",
        "\n",
        "results = [tag.get_text().strip()for tag in results]\n",
        "results\n"
      ],
      "execution_count": 18,
      "outputs": [
        {
          "output_type": "execute_result",
          "data": {
            "text/plain": [
              "['Database Administrator I',\n",
              " 'Assistant Manager, Full Stack Developer',\n",
              " 'Assistant Manager - Data Engineering',\n",
              " 'Assistant Manager – Solutions Architecture',\n",
              " 'Assistant Manager- SAP ABAP Developer',\n",
              " 'Supervisor – Full Stack Developer',\n",
              " 'Mobile App Developer',\n",
              " 'Data Systems Developer',\n",
              " 'Database and Management Information Systems Manager',\n",
              " 'Business Analyst']"
            ]
          },
          "metadata": {},
          "execution_count": 18
        }
      ]
    },
    {
      "cell_type": "code",
      "metadata": {
        "id": "x3WCh_-PGxmv",
        "colab": {
          "base_uri": "https://localhost:8080/"
        },
        "outputId": "611d5f24-8ea4-4347-8cf7-9174d3a13fff"
      },
      "source": [
        "\n",
        "import re\n",
        "\n",
        "soup_1 = BeautifulSoup(pigia_me.text, \"html.parser\") \n",
        "\n",
        "for link in soup_1.find_all('a', \n",
        "\n",
        "                         attrs={'href': re.compile(\"^https://www.pigiame.co.ke/listing\")}):\n",
        "\n",
        "     #display the actual urls\n",
        "\n",
        "    print(link.get('href')) "
      ],
      "execution_count": 10,
      "outputs": [
        {
          "output_type": "stream",
          "name": "stdout",
          "text": [
            "https://www.pigiame.co.ke/listings/database-administrator-i-3874948\n",
            "https://www.pigiame.co.ke/listings/assistant-manager-full-stack-developer-3871853\n",
            "https://www.pigiame.co.ke/listings/assistant-manager-data-engineering-3871846\n",
            "https://www.pigiame.co.ke/listings/assistant-manager-solutions-architecture-3871831\n",
            "https://www.pigiame.co.ke/listings/assistant-manager-sap-abap-developer-3871812\n",
            "https://www.pigiame.co.ke/listings/supervisor-full-stack-developer-3871425\n",
            "https://www.pigiame.co.ke/listings/mobile-app-developer-3869264\n",
            "https://www.pigiame.co.ke/listings/data-systems-developer-3867706\n",
            "https://www.pigiame.co.ke/listings/database-and-management-information-systems-manager-3865623\n",
            "https://www.pigiame.co.ke/listings/business-analyst-3863818\n"
          ]
        }
      ]
    },
    {
      "cell_type": "code",
      "metadata": {
        "id": "NNLbrng_3QfA",
        "colab": {
          "base_uri": "https://localhost:8080/"
        },
        "outputId": "c6807898-5f85-45c6-d1db-76c486f59bf2"
      },
      "source": [
        "# 2. Extracting job titles: my_job_mag\n",
        "# ---\n",
        "# \n",
        "# \n",
        "jobs = soup1.find_all('h2')\n",
        "jobs\n",
        "\n",
        "#Strpping all surrounding whitespace\n",
        "jobs =[tag.get_text().strip()for tag in jobs]\n",
        "jobs\n",
        "\n",
        "\n"
      ],
      "execution_count": 32,
      "outputs": [
        {
          "output_type": "execute_result",
          "data": {
            "text/plain": [
              "['3D Artist Unity at Grob Aircraft Kenya',\n",
              " 'Unity Developer at Grob Aircraft Kenya',\n",
              " 'Full Stack Web Developer at Grob Aircraft Kenya',\n",
              " 'CCTV and Access Control Technician with 3 Years Experience at Led Power Technology',\n",
              " 'Full Stack Engineer at Kwolco',\n",
              " 'Assistant Database Administrator I at Karatina University',\n",
              " 'Senior User Experience Designer at International Committee of the Red Cross (ICRC)',\n",
              " 'Service Availability Tech Lead - (22000014) at Safaricom Kenya',\n",
              " 'Digital Marketing at ShopIt Store',\n",
              " 'Assistant Manager IAD – Integrated Assurance at Kenya Revenue Authority (KRA)',\n",
              " 'Assistant Manager – Continuous Audit at Kenya Revenue Authority (KRA)',\n",
              " 'Assistant Manager, Full Stack Developer at Kenya Revenue Authority (KRA)',\n",
              " 'Assistant Manager - Data Engineering at Kenya Revenue Authority (KRA)',\n",
              " 'Assistant Manager – Solutions Architecture at Kenya Revenue Authority (KRA)',\n",
              " 'Assistant Manager- SAP ABAP Developer at Kenya Revenue Authority (KRA)',\n",
              " 'Supervisor – Full Stack Developer at Kenya Revenue Authority (KRA)',\n",
              " 'Database and Management Information Systems Manager at Mercy Corps',\n",
              " 'Technology and Product Officer KY at Umba',\n",
              " 'Subscribe to Job Alert',\n",
              " 'Career Advice',\n",
              " 'Subscribe to Job Alert',\n",
              " 'Job Vacancies in ICT / Computer']"
            ]
          },
          "metadata": {},
          "execution_count": 32
        }
      ]
    },
    {
      "cell_type": "code",
      "metadata": {
        "id": "I0fQKn63QV0R",
        "colab": {
          "base_uri": "https://localhost:8080/"
        },
        "outputId": "e8079a26-825d-4618-f031-d1cc4e5e63c4"
      },
      "source": [
        "# 3. Extracting job titles: kenya_job\n",
        "# ---\n",
        "\n",
        "job_title= soup2.find_all('h5')\n",
        "job_title\n",
        "\n",
        "#Strpping all surrounding whitespace\n",
        "job_title =[tag.get_text().strip()for tag in job_title]\n",
        "job_title\n"
      ],
      "execution_count": 41,
      "outputs": [
        {
          "output_type": "execute_result",
          "data": {
            "text/plain": [
              "['Sales and Marketing Agent',\n",
              " 'Social Media Manager',\n",
              " 'Mid Frontend Developer (React JS)',\n",
              " 'Mid Level Backend Developer (Java)',\n",
              " 'Mid Level Backend Developer (.NET)',\n",
              " 'Mid Level Front End Developer (Angular)',\n",
              " 'Mid Level IOS Developer',\n",
              " 'Senior Test Analyst',\n",
              " 'Senior Test Analyst',\n",
              " 'Payments Head of Support',\n",
              " 'Mid Level Finacle Developer',\n",
              " 'Cricket Data Scout - Nairobi, Kenya',\n",
              " 'Sales Support Executive',\n",
              " 'Area Sales Manager',\n",
              " 'Senior Customer Success Operations Analyst - Customer Programs-US Only',\n",
              " 'Senior Backend Engineer, Manage: Import',\n",
              " 'Senior Frontend Engineer, Release',\n",
              " 'Senior Customer Success Operations Analyst-Product Usage Data',\n",
              " 'Senior Backend Engineer, Growth: Experimentation',\n",
              " 'Senior/Staff Fullstack Engineer: Product Analytics',\n",
              " 'Senior Backend Engineer, Manage: Compliance',\n",
              " 'Senior Backend Engineer, Product Intelligence',\n",
              " 'Backend Engineer, Verify: Pipeline Authoring',\n",
              " 'Backend Engineer, Enablement: Sharding Group',\n",
              " 'Director of Chaos Engineering - Ubuntu & Distributed Systems']"
            ]
          },
          "metadata": {},
          "execution_count": 41
        }
      ]
    },
    {
      "cell_type": "markdown",
      "metadata": {
        "id": "7ePXABAihaKn"
      },
      "source": [
        "## <font color='#2F4F4F'>Step 4: Saving our Data</font>"
      ]
    },
    {
      "cell_type": "code",
      "metadata": {
        "id": "fsG9pQXk5f8y",
        "colab": {
          "base_uri": "https://localhost:8080/",
          "height": 206
        },
        "outputId": "b3ef83b5-0bbe-4a28-8d4c-d6c15aff0e83"
      },
      "source": [
        "# Saving the scraped contents in a dataframe and preview our data\n",
        "# ---\n",
        "#\n",
        "results = pd.DataFrame({\"title\":results})\n",
        "results.head()"
      ],
      "execution_count": 19,
      "outputs": [
        {
          "output_type": "execute_result",
          "data": {
            "text/html": [
              "\n",
              "  <div id=\"df-edd4e5c3-d5db-493c-9de6-be599db1b50c\">\n",
              "    <div class=\"colab-df-container\">\n",
              "      <div>\n",
              "<style scoped>\n",
              "    .dataframe tbody tr th:only-of-type {\n",
              "        vertical-align: middle;\n",
              "    }\n",
              "\n",
              "    .dataframe tbody tr th {\n",
              "        vertical-align: top;\n",
              "    }\n",
              "\n",
              "    .dataframe thead th {\n",
              "        text-align: right;\n",
              "    }\n",
              "</style>\n",
              "<table border=\"1\" class=\"dataframe\">\n",
              "  <thead>\n",
              "    <tr style=\"text-align: right;\">\n",
              "      <th></th>\n",
              "      <th>title</th>\n",
              "    </tr>\n",
              "  </thead>\n",
              "  <tbody>\n",
              "    <tr>\n",
              "      <th>0</th>\n",
              "      <td>Database Administrator I</td>\n",
              "    </tr>\n",
              "    <tr>\n",
              "      <th>1</th>\n",
              "      <td>Assistant Manager, Full Stack Developer</td>\n",
              "    </tr>\n",
              "    <tr>\n",
              "      <th>2</th>\n",
              "      <td>Assistant Manager - Data Engineering</td>\n",
              "    </tr>\n",
              "    <tr>\n",
              "      <th>3</th>\n",
              "      <td>Assistant Manager – Solutions Architecture</td>\n",
              "    </tr>\n",
              "    <tr>\n",
              "      <th>4</th>\n",
              "      <td>Assistant Manager- SAP ABAP Developer</td>\n",
              "    </tr>\n",
              "  </tbody>\n",
              "</table>\n",
              "</div>\n",
              "      <button class=\"colab-df-convert\" onclick=\"convertToInteractive('df-edd4e5c3-d5db-493c-9de6-be599db1b50c')\"\n",
              "              title=\"Convert this dataframe to an interactive table.\"\n",
              "              style=\"display:none;\">\n",
              "        \n",
              "  <svg xmlns=\"http://www.w3.org/2000/svg\" height=\"24px\"viewBox=\"0 0 24 24\"\n",
              "       width=\"24px\">\n",
              "    <path d=\"M0 0h24v24H0V0z\" fill=\"none\"/>\n",
              "    <path d=\"M18.56 5.44l.94 2.06.94-2.06 2.06-.94-2.06-.94-.94-2.06-.94 2.06-2.06.94zm-11 1L8.5 8.5l.94-2.06 2.06-.94-2.06-.94L8.5 2.5l-.94 2.06-2.06.94zm10 10l.94 2.06.94-2.06 2.06-.94-2.06-.94-.94-2.06-.94 2.06-2.06.94z\"/><path d=\"M17.41 7.96l-1.37-1.37c-.4-.4-.92-.59-1.43-.59-.52 0-1.04.2-1.43.59L10.3 9.45l-7.72 7.72c-.78.78-.78 2.05 0 2.83L4 21.41c.39.39.9.59 1.41.59.51 0 1.02-.2 1.41-.59l7.78-7.78 2.81-2.81c.8-.78.8-2.07 0-2.86zM5.41 20L4 18.59l7.72-7.72 1.47 1.35L5.41 20z\"/>\n",
              "  </svg>\n",
              "      </button>\n",
              "      \n",
              "  <style>\n",
              "    .colab-df-container {\n",
              "      display:flex;\n",
              "      flex-wrap:wrap;\n",
              "      gap: 12px;\n",
              "    }\n",
              "\n",
              "    .colab-df-convert {\n",
              "      background-color: #E8F0FE;\n",
              "      border: none;\n",
              "      border-radius: 50%;\n",
              "      cursor: pointer;\n",
              "      display: none;\n",
              "      fill: #1967D2;\n",
              "      height: 32px;\n",
              "      padding: 0 0 0 0;\n",
              "      width: 32px;\n",
              "    }\n",
              "\n",
              "    .colab-df-convert:hover {\n",
              "      background-color: #E2EBFA;\n",
              "      box-shadow: 0px 1px 2px rgba(60, 64, 67, 0.3), 0px 1px 3px 1px rgba(60, 64, 67, 0.15);\n",
              "      fill: #174EA6;\n",
              "    }\n",
              "\n",
              "    [theme=dark] .colab-df-convert {\n",
              "      background-color: #3B4455;\n",
              "      fill: #D2E3FC;\n",
              "    }\n",
              "\n",
              "    [theme=dark] .colab-df-convert:hover {\n",
              "      background-color: #434B5C;\n",
              "      box-shadow: 0px 1px 3px 1px rgba(0, 0, 0, 0.15);\n",
              "      filter: drop-shadow(0px 1px 2px rgba(0, 0, 0, 0.3));\n",
              "      fill: #FFFFFF;\n",
              "    }\n",
              "  </style>\n",
              "\n",
              "      <script>\n",
              "        const buttonEl =\n",
              "          document.querySelector('#df-edd4e5c3-d5db-493c-9de6-be599db1b50c button.colab-df-convert');\n",
              "        buttonEl.style.display =\n",
              "          google.colab.kernel.accessAllowed ? 'block' : 'none';\n",
              "\n",
              "        async function convertToInteractive(key) {\n",
              "          const element = document.querySelector('#df-edd4e5c3-d5db-493c-9de6-be599db1b50c');\n",
              "          const dataTable =\n",
              "            await google.colab.kernel.invokeFunction('convertToInteractive',\n",
              "                                                     [key], {});\n",
              "          if (!dataTable) return;\n",
              "\n",
              "          const docLinkHtml = 'Like what you see? Visit the ' +\n",
              "            '<a target=\"_blank\" href=https://colab.research.google.com/notebooks/data_table.ipynb>data table notebook</a>'\n",
              "            + ' to learn more about interactive tables.';\n",
              "          element.innerHTML = '';\n",
              "          dataTable['output_type'] = 'display_data';\n",
              "          await google.colab.output.renderOutput(dataTable, element);\n",
              "          const docLink = document.createElement('div');\n",
              "          docLink.innerHTML = docLinkHtml;\n",
              "          element.appendChild(docLink);\n",
              "        }\n",
              "      </script>\n",
              "    </div>\n",
              "  </div>\n",
              "  "
            ],
            "text/plain": [
              "                                        title\n",
              "0                    Database Administrator I\n",
              "1     Assistant Manager, Full Stack Developer\n",
              "2        Assistant Manager - Data Engineering\n",
              "3  Assistant Manager – Solutions Architecture\n",
              "4       Assistant Manager- SAP ABAP Developer"
            ]
          },
          "metadata": {},
          "execution_count": 19
        }
      ]
    },
    {
      "cell_type": "code",
      "source": [
        "jobs = pd.DataFrame({\"title\":jobs})\n",
        "jobs.head()"
      ],
      "metadata": {
        "colab": {
          "base_uri": "https://localhost:8080/",
          "height": 206
        },
        "id": "I3uOKNNGROCS",
        "outputId": "eed4c58e-c0e1-4584-913c-b309a9ca101c"
      },
      "execution_count": 34,
      "outputs": [
        {
          "output_type": "execute_result",
          "data": {
            "text/html": [
              "\n",
              "  <div id=\"df-936469f3-9383-48e3-bac7-4a7a2313870b\">\n",
              "    <div class=\"colab-df-container\">\n",
              "      <div>\n",
              "<style scoped>\n",
              "    .dataframe tbody tr th:only-of-type {\n",
              "        vertical-align: middle;\n",
              "    }\n",
              "\n",
              "    .dataframe tbody tr th {\n",
              "        vertical-align: top;\n",
              "    }\n",
              "\n",
              "    .dataframe thead th {\n",
              "        text-align: right;\n",
              "    }\n",
              "</style>\n",
              "<table border=\"1\" class=\"dataframe\">\n",
              "  <thead>\n",
              "    <tr style=\"text-align: right;\">\n",
              "      <th></th>\n",
              "      <th>title</th>\n",
              "    </tr>\n",
              "  </thead>\n",
              "  <tbody>\n",
              "    <tr>\n",
              "      <th>0</th>\n",
              "      <td>3D Artist Unity at Grob Aircraft Kenya</td>\n",
              "    </tr>\n",
              "    <tr>\n",
              "      <th>1</th>\n",
              "      <td>Unity Developer at Grob Aircraft Kenya</td>\n",
              "    </tr>\n",
              "    <tr>\n",
              "      <th>2</th>\n",
              "      <td>Full Stack Web Developer at Grob Aircraft Kenya</td>\n",
              "    </tr>\n",
              "    <tr>\n",
              "      <th>3</th>\n",
              "      <td>CCTV and Access Control Technician with 3 Year...</td>\n",
              "    </tr>\n",
              "    <tr>\n",
              "      <th>4</th>\n",
              "      <td>Full Stack Engineer at Kwolco</td>\n",
              "    </tr>\n",
              "  </tbody>\n",
              "</table>\n",
              "</div>\n",
              "      <button class=\"colab-df-convert\" onclick=\"convertToInteractive('df-936469f3-9383-48e3-bac7-4a7a2313870b')\"\n",
              "              title=\"Convert this dataframe to an interactive table.\"\n",
              "              style=\"display:none;\">\n",
              "        \n",
              "  <svg xmlns=\"http://www.w3.org/2000/svg\" height=\"24px\"viewBox=\"0 0 24 24\"\n",
              "       width=\"24px\">\n",
              "    <path d=\"M0 0h24v24H0V0z\" fill=\"none\"/>\n",
              "    <path d=\"M18.56 5.44l.94 2.06.94-2.06 2.06-.94-2.06-.94-.94-2.06-.94 2.06-2.06.94zm-11 1L8.5 8.5l.94-2.06 2.06-.94-2.06-.94L8.5 2.5l-.94 2.06-2.06.94zm10 10l.94 2.06.94-2.06 2.06-.94-2.06-.94-.94-2.06-.94 2.06-2.06.94z\"/><path d=\"M17.41 7.96l-1.37-1.37c-.4-.4-.92-.59-1.43-.59-.52 0-1.04.2-1.43.59L10.3 9.45l-7.72 7.72c-.78.78-.78 2.05 0 2.83L4 21.41c.39.39.9.59 1.41.59.51 0 1.02-.2 1.41-.59l7.78-7.78 2.81-2.81c.8-.78.8-2.07 0-2.86zM5.41 20L4 18.59l7.72-7.72 1.47 1.35L5.41 20z\"/>\n",
              "  </svg>\n",
              "      </button>\n",
              "      \n",
              "  <style>\n",
              "    .colab-df-container {\n",
              "      display:flex;\n",
              "      flex-wrap:wrap;\n",
              "      gap: 12px;\n",
              "    }\n",
              "\n",
              "    .colab-df-convert {\n",
              "      background-color: #E8F0FE;\n",
              "      border: none;\n",
              "      border-radius: 50%;\n",
              "      cursor: pointer;\n",
              "      display: none;\n",
              "      fill: #1967D2;\n",
              "      height: 32px;\n",
              "      padding: 0 0 0 0;\n",
              "      width: 32px;\n",
              "    }\n",
              "\n",
              "    .colab-df-convert:hover {\n",
              "      background-color: #E2EBFA;\n",
              "      box-shadow: 0px 1px 2px rgba(60, 64, 67, 0.3), 0px 1px 3px 1px rgba(60, 64, 67, 0.15);\n",
              "      fill: #174EA6;\n",
              "    }\n",
              "\n",
              "    [theme=dark] .colab-df-convert {\n",
              "      background-color: #3B4455;\n",
              "      fill: #D2E3FC;\n",
              "    }\n",
              "\n",
              "    [theme=dark] .colab-df-convert:hover {\n",
              "      background-color: #434B5C;\n",
              "      box-shadow: 0px 1px 3px 1px rgba(0, 0, 0, 0.15);\n",
              "      filter: drop-shadow(0px 1px 2px rgba(0, 0, 0, 0.3));\n",
              "      fill: #FFFFFF;\n",
              "    }\n",
              "  </style>\n",
              "\n",
              "      <script>\n",
              "        const buttonEl =\n",
              "          document.querySelector('#df-936469f3-9383-48e3-bac7-4a7a2313870b button.colab-df-convert');\n",
              "        buttonEl.style.display =\n",
              "          google.colab.kernel.accessAllowed ? 'block' : 'none';\n",
              "\n",
              "        async function convertToInteractive(key) {\n",
              "          const element = document.querySelector('#df-936469f3-9383-48e3-bac7-4a7a2313870b');\n",
              "          const dataTable =\n",
              "            await google.colab.kernel.invokeFunction('convertToInteractive',\n",
              "                                                     [key], {});\n",
              "          if (!dataTable) return;\n",
              "\n",
              "          const docLinkHtml = 'Like what you see? Visit the ' +\n",
              "            '<a target=\"_blank\" href=https://colab.research.google.com/notebooks/data_table.ipynb>data table notebook</a>'\n",
              "            + ' to learn more about interactive tables.';\n",
              "          element.innerHTML = '';\n",
              "          dataTable['output_type'] = 'display_data';\n",
              "          await google.colab.output.renderOutput(dataTable, element);\n",
              "          const docLink = document.createElement('div');\n",
              "          docLink.innerHTML = docLinkHtml;\n",
              "          element.appendChild(docLink);\n",
              "        }\n",
              "      </script>\n",
              "    </div>\n",
              "  </div>\n",
              "  "
            ],
            "text/plain": [
              "                                               title\n",
              "0             3D Artist Unity at Grob Aircraft Kenya\n",
              "1             Unity Developer at Grob Aircraft Kenya\n",
              "2    Full Stack Web Developer at Grob Aircraft Kenya\n",
              "3  CCTV and Access Control Technician with 3 Year...\n",
              "4                      Full Stack Engineer at Kwolco"
            ]
          },
          "metadata": {},
          "execution_count": 34
        }
      ]
    },
    {
      "cell_type": "code",
      "source": [
        "job_title = pd.DataFrame({\"title\":job_title})\n",
        "job_title.head()"
      ],
      "metadata": {
        "colab": {
          "base_uri": "https://localhost:8080/",
          "height": 206
        },
        "id": "51w8b6NMUOWj",
        "outputId": "db4c72e6-7c02-42ab-fc91-cb0f6095950f"
      },
      "execution_count": 42,
      "outputs": [
        {
          "output_type": "execute_result",
          "data": {
            "text/html": [
              "\n",
              "  <div id=\"df-0376783f-b063-4b92-914b-ea8307665225\">\n",
              "    <div class=\"colab-df-container\">\n",
              "      <div>\n",
              "<style scoped>\n",
              "    .dataframe tbody tr th:only-of-type {\n",
              "        vertical-align: middle;\n",
              "    }\n",
              "\n",
              "    .dataframe tbody tr th {\n",
              "        vertical-align: top;\n",
              "    }\n",
              "\n",
              "    .dataframe thead th {\n",
              "        text-align: right;\n",
              "    }\n",
              "</style>\n",
              "<table border=\"1\" class=\"dataframe\">\n",
              "  <thead>\n",
              "    <tr style=\"text-align: right;\">\n",
              "      <th></th>\n",
              "      <th>title</th>\n",
              "    </tr>\n",
              "  </thead>\n",
              "  <tbody>\n",
              "    <tr>\n",
              "      <th>0</th>\n",
              "      <td>Sales and Marketing Agent</td>\n",
              "    </tr>\n",
              "    <tr>\n",
              "      <th>1</th>\n",
              "      <td>Social Media Manager</td>\n",
              "    </tr>\n",
              "    <tr>\n",
              "      <th>2</th>\n",
              "      <td>Mid Frontend Developer (React JS)</td>\n",
              "    </tr>\n",
              "    <tr>\n",
              "      <th>3</th>\n",
              "      <td>Mid Level Backend Developer (Java)</td>\n",
              "    </tr>\n",
              "    <tr>\n",
              "      <th>4</th>\n",
              "      <td>Mid Level Backend Developer (.NET)</td>\n",
              "    </tr>\n",
              "  </tbody>\n",
              "</table>\n",
              "</div>\n",
              "      <button class=\"colab-df-convert\" onclick=\"convertToInteractive('df-0376783f-b063-4b92-914b-ea8307665225')\"\n",
              "              title=\"Convert this dataframe to an interactive table.\"\n",
              "              style=\"display:none;\">\n",
              "        \n",
              "  <svg xmlns=\"http://www.w3.org/2000/svg\" height=\"24px\"viewBox=\"0 0 24 24\"\n",
              "       width=\"24px\">\n",
              "    <path d=\"M0 0h24v24H0V0z\" fill=\"none\"/>\n",
              "    <path d=\"M18.56 5.44l.94 2.06.94-2.06 2.06-.94-2.06-.94-.94-2.06-.94 2.06-2.06.94zm-11 1L8.5 8.5l.94-2.06 2.06-.94-2.06-.94L8.5 2.5l-.94 2.06-2.06.94zm10 10l.94 2.06.94-2.06 2.06-.94-2.06-.94-.94-2.06-.94 2.06-2.06.94z\"/><path d=\"M17.41 7.96l-1.37-1.37c-.4-.4-.92-.59-1.43-.59-.52 0-1.04.2-1.43.59L10.3 9.45l-7.72 7.72c-.78.78-.78 2.05 0 2.83L4 21.41c.39.39.9.59 1.41.59.51 0 1.02-.2 1.41-.59l7.78-7.78 2.81-2.81c.8-.78.8-2.07 0-2.86zM5.41 20L4 18.59l7.72-7.72 1.47 1.35L5.41 20z\"/>\n",
              "  </svg>\n",
              "      </button>\n",
              "      \n",
              "  <style>\n",
              "    .colab-df-container {\n",
              "      display:flex;\n",
              "      flex-wrap:wrap;\n",
              "      gap: 12px;\n",
              "    }\n",
              "\n",
              "    .colab-df-convert {\n",
              "      background-color: #E8F0FE;\n",
              "      border: none;\n",
              "      border-radius: 50%;\n",
              "      cursor: pointer;\n",
              "      display: none;\n",
              "      fill: #1967D2;\n",
              "      height: 32px;\n",
              "      padding: 0 0 0 0;\n",
              "      width: 32px;\n",
              "    }\n",
              "\n",
              "    .colab-df-convert:hover {\n",
              "      background-color: #E2EBFA;\n",
              "      box-shadow: 0px 1px 2px rgba(60, 64, 67, 0.3), 0px 1px 3px 1px rgba(60, 64, 67, 0.15);\n",
              "      fill: #174EA6;\n",
              "    }\n",
              "\n",
              "    [theme=dark] .colab-df-convert {\n",
              "      background-color: #3B4455;\n",
              "      fill: #D2E3FC;\n",
              "    }\n",
              "\n",
              "    [theme=dark] .colab-df-convert:hover {\n",
              "      background-color: #434B5C;\n",
              "      box-shadow: 0px 1px 3px 1px rgba(0, 0, 0, 0.15);\n",
              "      filter: drop-shadow(0px 1px 2px rgba(0, 0, 0, 0.3));\n",
              "      fill: #FFFFFF;\n",
              "    }\n",
              "  </style>\n",
              "\n",
              "      <script>\n",
              "        const buttonEl =\n",
              "          document.querySelector('#df-0376783f-b063-4b92-914b-ea8307665225 button.colab-df-convert');\n",
              "        buttonEl.style.display =\n",
              "          google.colab.kernel.accessAllowed ? 'block' : 'none';\n",
              "\n",
              "        async function convertToInteractive(key) {\n",
              "          const element = document.querySelector('#df-0376783f-b063-4b92-914b-ea8307665225');\n",
              "          const dataTable =\n",
              "            await google.colab.kernel.invokeFunction('convertToInteractive',\n",
              "                                                     [key], {});\n",
              "          if (!dataTable) return;\n",
              "\n",
              "          const docLinkHtml = 'Like what you see? Visit the ' +\n",
              "            '<a target=\"_blank\" href=https://colab.research.google.com/notebooks/data_table.ipynb>data table notebook</a>'\n",
              "            + ' to learn more about interactive tables.';\n",
              "          element.innerHTML = '';\n",
              "          dataTable['output_type'] = 'display_data';\n",
              "          await google.colab.output.renderOutput(dataTable, element);\n",
              "          const docLink = document.createElement('div');\n",
              "          docLink.innerHTML = docLinkHtml;\n",
              "          element.appendChild(docLink);\n",
              "        }\n",
              "      </script>\n",
              "    </div>\n",
              "  </div>\n",
              "  "
            ],
            "text/plain": [
              "                                title\n",
              "0           Sales and Marketing Agent\n",
              "1                Social Media Manager\n",
              "2   Mid Frontend Developer (React JS)\n",
              "3  Mid Level Backend Developer (Java)\n",
              "4  Mid Level Backend Developer (.NET)"
            ]
          },
          "metadata": {},
          "execution_count": 42
        }
      ]
    }
  ]
}